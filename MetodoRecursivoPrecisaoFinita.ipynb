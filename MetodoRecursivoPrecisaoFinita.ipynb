{
 "cells": [
  {
   "cell_type": "markdown",
   "metadata": {},
   "source": [
    "## Cálculo Recursivo Precisão Infinita (MRPI)"
   ]
  },
  {
   "cell_type": "markdown",
   "metadata": {},
   "source": [
    "### Librarias"
   ]
  },
  {
   "cell_type": "code",
   "execution_count": 1,
   "metadata": {},
   "outputs": [],
   "source": [
    "import sympy as sp\n",
    "import numpy as np\n",
    "from mpmath import *\n",
    "x = sp.Symbol('x')"
   ]
  },
  {
   "cell_type": "markdown",
   "metadata": {},
   "source": [
    "### Funções auxiliares"
   ]
  },
  {
   "cell_type": "code",
   "execution_count": 2,
   "metadata": {},
   "outputs": [],
   "source": [
    "\n",
    "def matrizDosCoeficentes(objeto, n, prec):\n",
    "    x = sp.Symbol('x')\n",
    "    mp.dps = prec\n",
    "    an = sp.Matrix( np.zeros( (n + 1) ) )\n",
    "    fx = sp.Matrix(np.zeros( (1, n + 1) ) )\n",
    "    if type( objeto) == list or type( objeto) == tuple:\n",
    "        if len(objeto) >= n + 1:\n",
    "            coluna = 0\n",
    "            iteracoes = 0\n",
    "            while(coluna <= n and iteracoes < 10**9):       \n",
    "                an[coluna] = mpf(objeto[ coluna]) \n",
    "                fx[coluna] = x**coluna\n",
    "                coluna += 1\n",
    "                iteracoes += 1\n",
    "                Sn = fx * an\n",
    "            return( Sn, an )\n",
    "        else:\n",
    "            print('Número de coeficientes insuficente.')\n",
    "    else:\n",
    "        x = sp.Symbol('x')\n",
    "        coluna = 0\n",
    "        iteracoes = 0\n",
    "        while(coluna <= n and iteracoes < 10**9):       \n",
    "            derivada = sp.diff( objeto, x, coluna )\n",
    "            derivadaEmZero = derivada.subs( x, mpf(0) ) \n",
    "            an[coluna] = mpf( sp.N(derivadaEmZero, prec) / sp.factorial(coluna)) \n",
    "            fx[coluna] = x**coluna\n",
    "            coluna += 1\n",
    "            iteracoes += 1\n",
    "            Sn = fx * an\n",
    "        return( Sn, an )\n",
    "    \n",
    "    return"
   ]
  },
  {
   "cell_type": "markdown",
   "metadata": {},
   "source": [
    "### Cálculo do Padé  \\[ p / q \\]"
   ]
  },
  {
   "cell_type": "code",
   "execution_count": 5,
   "metadata": {},
   "outputs": [],
   "source": [
    "\n",
    "\n",
    "def padeRecursivoPrecisaoFinita( objeto, n, iterações, percurso, prec):\n",
    "    mp.dps = prec\n",
    "    #Validar número de iterações\n",
    "    max_iteraçoes = 2*n -1\n",
    "    if(iterações>max_iteraçoes):\n",
    "        return('Número de iterações inválido.')\n",
    "    \n",
    "    # Numeradores e denominadores dos aproximantes de Padé \n",
    "    numerador = sp.Matrix(np.zeros((2+iterações)))\n",
    "    denominador = sp.Matrix(np.zeros((2+iterações)))\n",
    "    \n",
    "    # defnir o nome das variáveis recursivas como funções \n",
    "    for i in range(0,2+iterações):\n",
    "            Ni = sp.Function('N'+str(i))\n",
    "            numerador[i] = Ni\n",
    "            Di = sp.Function('D'+str(i)) \n",
    "            denominador[i] = Di\n",
    "\n",
    "    # Input: f_(n) , 1 ; f_(n-1) , 1\n",
    "    \n",
    "    p = matrizDosCoeficentes( objeto, n, prec)\n",
    "    numerador[0] = p[0]\n",
    "    denominador[0] = 1\n",
    "    q = matrizDosCoeficentes(objeto, n-1, prec)\n",
    "    numerador[1] = q[0]\n",
    "    denominador[1] = 1\n",
    "   \n",
    "    # Guardar os aproximantes construídos\n",
    "    pade = sp.Matrix(np.zeros((2+iterações)))\n",
    "    \n",
    "    #Padé [n/0]\n",
    "    pade[0] = numerador[0]/denominador[0]\n",
    " \n",
    "    #Padé [(n-1)/0]\n",
    "    pade[1] = numerador[1]/denominador[1]\n",
    "    \n",
    "    \n",
    "    # Iniciar o algoritmo de Baker\n",
    "    i = 2\n",
    "    j = 2\n",
    "    \n",
    "    while(i < j + iterações):\n",
    "        \n",
    "        cc0 = sp.Poly(numerador[i-2], x)\n",
    "        c0 = cc0.coeffs()[0]\n",
    "      \n",
    "        cc1 = sp.Poly(numerador[i-1], x)\n",
    "        c1 = cc1.coeffs()[0]\n",
    "        \n",
    "        # Expressões recursivas\n",
    "        numerador[i] = sp.expand(sp.simplify((c1*numerador[i-2]-x*c0*numerador[i-1])/c1))\n",
    "        denominador[i] = sp.expand(sp.simplify((c1*denominador[i-2]-x*c0*denominador[i-1])/c1))\n",
    "        pade[i] = numerador[i]/denominador[i]\n",
    "        \n",
    "            \n",
    "        i += 1\n",
    "        if (i < j + iterações):\n",
    "            cc0 = sp.Poly(numerador[i-2], x)\n",
    "            c0 = cc0.coeffs()[0]\n",
    "            cc1 = sp.Poly(numerador[i-1], x)\n",
    "            c1 = cc1.coeffs()[0]\n",
    "            \n",
    "            # Expressões recursivas\n",
    "            numerador[i] = sp.expand(sp.simplify((c1*numerador[i-2]-c0*numerador[i-1])/(c1-c0)))\n",
    "            denominador[i] = sp.expand(sp.simplify((c1*denominador[i-2]-c0*denominador[i-1])/(c1-c0)))\n",
    "            pade[i] = numerador[i]/denominador[i]\n",
    "            \n",
    "            \n",
    "        i += 1\n",
    "    # Caminho na tabela de Padé    \n",
    "    if ( percurso == 1 ):\n",
    "        return ( pade )\n",
    "    \n",
    "    # Último aproximante de Padé construído\n",
    "    elif (percurso == 0):\n",
    "        return(pade[-1])\n",
    "    #erro\n",
    "    else:\n",
    "        return('O parâmetro percurso toma apenas os valores: 0 ou 1.')"
   ]
  }
 ],
 "metadata": {
  "kernelspec": {
   "display_name": "Python 3",
   "language": "python",
   "name": "python3"
  },
  "language_info": {
   "codemirror_mode": {
    "name": "ipython",
    "version": 3
   },
   "file_extension": ".py",
   "mimetype": "text/x-python",
   "name": "python",
   "nbconvert_exporter": "python",
   "pygments_lexer": "ipython3",
   "version": "3.7.4"
  }
 },
 "nbformat": 4,
 "nbformat_minor": 2
}
