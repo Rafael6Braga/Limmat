{
 "cells": [
  {
   "cell_type": "markdown",
   "metadata": {},
   "source": [
    "##  Cálculo Direto Precisão Finita Exponencial (CDPFE)"
   ]
  },
  {
   "cell_type": "markdown",
   "metadata": {},
   "source": [
    "### Librarias"
   ]
  },
  {
   "cell_type": "code",
   "execution_count": 1,
   "metadata": {},
   "outputs": [],
   "source": [
    "import sympy as sp\n",
    "import numpy as np\n",
    "from math import *\n",
    "from decimal import *"
   ]
  },
  {
   "cell_type": "markdown",
   "metadata": {},
   "source": [
    "### Funções auxiliares"
   ]
  },
  {
   "cell_type": "code",
   "execution_count": 2,
   "metadata": {},
   "outputs": [],
   "source": [
    "def padeExponencialNumerador(p,q,prec):\n",
    "    # definir parâmetros e objectos auxiliares\n",
    "    getcontext().prec = prec\n",
    "    x = sp.Symbol('x')\n",
    "    Numerador = sp.Function('Numerador')\n",
    "    M = sp.Matrix(np.zeros(( 1, p + 1 )))\n",
    "    \n",
    "    # calcular os coeficientes\n",
    "    \n",
    "    for i in range( 0, p + 1 ):\n",
    "        numerador = factorial(p + q - i) * factorial(p)\n",
    "        denominador = factorial(p + q) * factorial(i) * factorial(p - i)\n",
    "        coeficiente = Decimal(numerador) / Decimal(denominador)\n",
    "        M[i] = sp.Float( coeficiente, prec) * x**i\n",
    "    \n",
    "    # somar os monómios -> polinómio  \n",
    "    \n",
    "    Numerador = sum( M )\n",
    "    \n",
    "    return ( Numerador )\n",
    "\n",
    "\n",
    "\n",
    "\n",
    "\n",
    "def padeExponencialDenominador(p,q,prec):\n",
    "    # definir parâmetros e objectos auxiliares\n",
    "    getcontext().prec = prec\n",
    "    x = sp.Symbol('x')\n",
    "    Denominador = sp.Function('Denominador')\n",
    "    M = sp.Matrix(np.zeros((1,q+1)))\n",
    "    \n",
    "    # calcular os coeficientes\n",
    "    \n",
    "    for i in range( 0, q + 1 ):\n",
    "        numerador = factorial(p + q - i) * factorial(q)\n",
    "        denominador = factorial(p + q) * factorial(i) * factorial(q - i)\n",
    "        coeficiente = (Decimal(numerador) / Decimal(denominador) )* ((-1)**(i))\n",
    "        M[i] = sp.Float( coeficiente , prec ) * x**i\n",
    "    \n",
    "    # somar os monómios -> polinómio  \n",
    "    \n",
    "    Denominador = sum( M )\n",
    "    \n",
    "    return ( Denominador )"
   ]
  },
  {
   "cell_type": "markdown",
   "metadata": {},
   "source": [
    "### Cálculo do Padé  \\[ p / q \\] para $e^x$"
   ]
  },
  {
   "cell_type": "code",
   "execution_count": 3,
   "metadata": {},
   "outputs": [],
   "source": [
    "def padeExponencial(p, q, prec):\n",
    "    pade = padeExponencialNumerador(p,q,prec) / padeExponencialDenominador(p,q,prec)\n",
    "    return(pade)"
   ]
  },
  {
   "cell_type": "markdown",
   "metadata": {},
   "source": [
    "### Exemplo\n",
    "#### Parâmetros:\n",
    "#### i. grau do numerador\n",
    "#### ii. grau do numerador\n",
    "#### iii. número de bits"
   ]
  },
  {
   "cell_type": "code",
   "execution_count": 4,
   "metadata": {},
   "outputs": [
    {
     "data": {
      "text/latex": [
       "$\\displaystyle \\frac{0.083333333333333333333333333333333 x^{2} + 0.5 x + 1.0}{0.083333333333333333333333333333333 x^{2} - 0.5 x + 1.0}$"
      ],
      "text/plain": [
       "(0.083333333333333333333333333333333*x**2 + 0.5*x + 1.0)/(0.083333333333333333333333333333333*x**2 - 0.5*x + 1.0)"
      ]
     },
     "execution_count": 4,
     "metadata": {},
     "output_type": "execute_result"
    }
   ],
   "source": [
    "padeExponencial(2,2,32)"
   ]
  },
  {
   "cell_type": "code",
   "execution_count": null,
   "metadata": {},
   "outputs": [],
   "source": []
  },
  {
   "cell_type": "code",
   "execution_count": null,
   "metadata": {},
   "outputs": [],
   "source": []
  }
 ],
 "metadata": {
  "kernelspec": {
   "display_name": "Python 3",
   "language": "python",
   "name": "python3"
  },
  "language_info": {
   "codemirror_mode": {
    "name": "ipython",
    "version": 3
   },
   "file_extension": ".py",
   "mimetype": "text/x-python",
   "name": "python",
   "nbconvert_exporter": "python",
   "pygments_lexer": "ipython3",
   "version": "3.7.4"
  }
 },
 "nbformat": 4,
 "nbformat_minor": 2
}
