{
 "cells": [
  {
   "cell_type": "code",
   "execution_count": 4,
   "metadata": {},
   "outputs": [],
   "source": [
    "import sympy as sp\n",
    "import math \n",
    "import numpy as np\n",
    "import scipy.linalg as la\n",
    "from numpy.linalg import inv\n",
    "import time"
   ]
  },
  {
   "cell_type": "code",
   "execution_count": 5,
   "metadata": {},
   "outputs": [],
   "source": [
    "x = sp.Symbol('x')\n",
    "\n",
    "def mcoef(function,p,q):\n",
    "    A = sp.Matrix(np.zeros((q,q))) \n",
    "    for j in range(0,q):  \n",
    "        for i in range(0,q):\n",
    "            if ( p - q + i + 1 + j < 0 ):\n",
    "                A[j,i] = 0\n",
    "            elif (p - q + i + 1 + j == 0 ):\n",
    "                 fn = sp.diff(function,x,0)\n",
    "                 A[j,i] = sp.Rational(fn.subs(x,0),math.factorial(p-q+i+j+1))\n",
    "            else:\n",
    "                fn = sp.diff(function,x,p - q + i + 1 + j)\n",
    "                A[j,i] = sp.Rational(fn.subs(x,0),math.factorial(p-q+i+j+1))\n",
    "    return(A)\n",
    "\n",
    "def c(function,p,q):\n",
    "    c = sp.Matrix(np.zeros((1,q))) \n",
    "    for j in range(0,q):\n",
    "                fn = sp.diff(function,x,p+j+1)\n",
    "                c[0,j] =(-1)*sp.Rational(fn.subs(x,0),math.factorial(p+j+1))\n",
    "    return(c)\n",
    "\n",
    "def ca(function,p,q):\n",
    "    ca = sp.Matrix(np.zeros((1,p+1)))\n",
    "    for i in range(0,p+1):\n",
    "        if (p-i<0):\n",
    "            ca[i]=0\n",
    "        else:\n",
    "            fn = sp.diff(function,x,p-i)\n",
    "            ca[i] = sp.Rational(fn.subs(x,0),math.factorial(p-i))\n",
    "    return(ca)"
   ]
  },
  {
   "cell_type": "code",
   "execution_count": 20,
   "metadata": {},
   "outputs": [],
   "source": [
    "def Pade(function,p,q):\n",
    "    #calculo dos b_n\n",
    "    A = mcoef(function,p,q)\n",
    "    if (A.det()!=0):\n",
    "        A1 = A.inv(\"LU\")\n",
    "        B = c(function,p,q)*A.inv(\"LU\")\n",
    "        Qx = sp.Matrix(np.zeros((q+1,1)))\n",
    "        \n",
    "        for i in range(0,q+1):\n",
    "                Qx[i] = x**(i)\n",
    "                \n",
    "        b = sp.Matrix(np.zeros((1,q+1)))\n",
    "        fn = sp.diff(function,x,0)\n",
    "        b[0] = sp.Rational(fn.subs(x,0),math.factorial(0))\n",
    "        \n",
    "        for j in range(1,q+1):\n",
    "            b[j] = B[-j]\n",
    "\n",
    "        Q = sp.Function('Q')\n",
    "        Q = b*Qx\n",
    "        \n",
    "        #calculo dos a_n \n",
    "        a = sp.Matrix(np.zeros((1,p+1)))\n",
    "        Px = sp.Matrix(np.zeros((p+1)))\n",
    "        for i in range(0,p+1):\n",
    "                Px[i] = x**(i)\n",
    "        if (p<q):\n",
    "            i = 1\n",
    "            imax = 0\n",
    "            while( i <= p+1 and imax < 10**6):\n",
    "                Ca = sp.Matrix(ca(function,p,q)[-i:])\n",
    "                Ba = sp.Matrix(b[0:i])\n",
    "                a[i-1]=sp.Transpose(Ca)*Ba\n",
    "                i += 1\n",
    "                imax += 1\n",
    "            P = sp.Function('P')\n",
    "            P = a*Px\n",
    "            R = sp.Function('R')\n",
    "            R = P/Q\n",
    "            \n",
    "        else:\n",
    "            i = 1\n",
    "            imax = 0\n",
    "            while( i <= q+1 and imax < 10**6 ):\n",
    "                    Ca = sp.Matrix(ca(function,p,q)[-i:])\n",
    "                    Ba = sp.Matrix(b[0:i])\n",
    "                    a[i-1]=sp.Transpose(Ca)*Ba\n",
    "                    i+=1\n",
    "                    imax +=1\n",
    "            j=-1\n",
    "            imax=0\n",
    "            while ( i <= p+1 and imax < 10**6):\n",
    "                    Ca = sp.Matrix(ca(function,p,q)[-i:j])\n",
    "                    Ba = sp.Matrix(b[0:])\n",
    "                    a[i-1]=sp.Transpose(Ca)*Ba\n",
    "                    i+=1\n",
    "                    j-=1\n",
    "                    imax +=1\n",
    "                    \n",
    "            P = sp.Function('P')\n",
    "            P = a*Px\n",
    "            R = sp.Function('R')\n",
    "            R = P/Q\n",
    "        return(R[0])\n",
    "    else:\n",
    "        print('Não exite o Padé ' + '['+ str(p) + '/' + str(q)+ ']' +' de ' + str(function) + '.')\n",
    "\n",
    "    return"
   ]
  },
  {
   "cell_type": "code",
   "execution_count": 23,
   "metadata": {},
   "outputs": [
    {
     "data": {
      "text/latex": [
       "$\\displaystyle \\frac{- \\frac{61 x^{2}}{150} + 1 + \\mathbb{0}}{\\frac{x^{4}}{200} + \\frac{7 x^{2}}{75} + 1}$"
      ],
      "text/plain": [
       "(-61*x**2/150 + 1 + 0)/(x**4/200 + 7*x**2/75 + 1)"
      ]
     },
     "execution_count": 23,
     "metadata": {},
     "output_type": "execute_result"
    }
   ],
   "source": [
    "Pade(sp.cos(x),3,4)"
   ]
  },
  {
   "cell_type": "code",
   "execution_count": 15,
   "metadata": {},
   "outputs": [
    {
     "name": "stdout",
     "output_type": "stream",
     "text": [
      "tempo de execução = 6.178254842758179\n"
     ]
    }
   ],
   "source": [
    "start_time = time.time()\n",
    "\n",
    "sp.diff(sp.sqrt((1+x)/(1+2*x)),x,8)\n",
    "\n",
    "elapsed_time = time.time() - start_time\n",
    "print('tempo de execução =',elapsed_time)\n"
   ]
  },
  {
   "cell_type": "code",
   "execution_count": 6,
   "metadata": {},
   "outputs": [
    {
     "data": {
      "text/latex": [
       "$\\displaystyle \\frac{19}{7}$"
      ],
      "text/plain": [
       "19/7"
      ]
     },
     "execution_count": 6,
     "metadata": {},
     "output_type": "execute_result"
    }
   ],
   "source": [
    "pd.subs(x,1)"
   ]
  },
  {
   "cell_type": "code",
   "execution_count": 7,
   "metadata": {},
   "outputs": [
    {
     "data": {
      "text/latex": [
       "$\\displaystyle 0.0039961141733306781986811984097585$"
      ],
      "text/plain": [
       "0.0039961141733306781986811984097585"
      ]
     },
     "execution_count": 7,
     "metadata": {},
     "output_type": "execute_result"
    }
   ],
   "source": [
    "sp.Float(2.7182818284590452353602874713526624977572470936999595-pd.subs(x,1), 32)"
   ]
  },
  {
   "cell_type": "code",
   "execution_count": 8,
   "metadata": {},
   "outputs": [
    {
     "data": {
      "text/plain": [
       "2.718281828459045"
      ]
     },
     "execution_count": 8,
     "metadata": {},
     "output_type": "execute_result"
    }
   ],
   "source": [
    "math.exp(1)"
   ]
  },
  {
   "cell_type": "code",
   "execution_count": 9,
   "metadata": {},
   "outputs": [
    {
     "data": {
      "text/plain": [
       "2.718281828459045"
      ]
     },
     "execution_count": 9,
     "metadata": {},
     "output_type": "execute_result"
    }
   ],
   "source": [
    "2.7182818284590452353602874713526624977572470936999595"
   ]
  }
 ],
 "metadata": {
  "kernelspec": {
   "display_name": "Python 3",
   "language": "python",
   "name": "python3"
  },
  "language_info": {
   "codemirror_mode": {
    "name": "ipython",
    "version": 3
   },
   "file_extension": ".py",
   "mimetype": "text/x-python",
   "name": "python",
   "nbconvert_exporter": "python",
   "pygments_lexer": "ipython3",
   "version": "3.7.4"
  }
 },
 "nbformat": 4,
 "nbformat_minor": 2
}
