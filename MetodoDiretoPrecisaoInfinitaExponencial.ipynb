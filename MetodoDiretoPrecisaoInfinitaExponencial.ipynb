{
 "cells": [
  {
   "cell_type": "markdown",
   "metadata": {},
   "source": [
    "## Librarias"
   ]
  },
  {
   "cell_type": "code",
   "execution_count": 1,
   "metadata": {},
   "outputs": [],
   "source": [
    "import sympy as sp\n",
    "import numpy as np"
   ]
  },
  {
   "cell_type": "markdown",
   "metadata": {},
   "source": [
    "### Funções auxiliares"
   ]
  },
  {
   "cell_type": "code",
   "execution_count": 2,
   "metadata": {},
   "outputs": [],
   "source": [
    "def padeExponencialNumerador( grauDoNumerador, grauDoDenominador ):\n",
    "    # definir parâmetros e objetos auxiliares\n",
    "    \n",
    "    x = sp.Symbol('x')\n",
    "    Numerador = sp.Function('Numerador')\n",
    "    N = sp.Matrix(np.zeros( ( 1, grauDoNumerador + 1 ) ))\n",
    "    \n",
    "    # calcular os coeficientes\n",
    "    \n",
    "    for i in range( 0, grauDoNumerador + 1 ):\n",
    "        numerador = sp.factorial( grauDoNumerador + grauDoDenominador - i ) * sp.factorial( grauDoNumerador )\n",
    "        denominador = sp.factorial( grauDoNumerador + grauDoDenominador ) * sp.factorial( i ) * \\\n",
    "        sp.factorial( grauDoNumerador - i )\n",
    "        \n",
    "        N[i] = (numerador / denominador ) * x**i\n",
    "    \n",
    "    # somar os monómios -> polinómio  \n",
    "    \n",
    "    Numerador = sum( N )\n",
    "    \n",
    "    return ( Numerador )\n",
    "\n",
    "\n",
    "\n",
    "\n",
    "def padeExponencialDenominador( grauDoNumerador, grauDoDenominador ):\n",
    "    # definir parâmetros e objectos auxiliares\n",
    "    \n",
    "    x = sp.Symbol('x')\n",
    "    Denominador = sp.Function('Denominador')\n",
    "    D = sp.Matrix(np.zeros( ( 1, grauDoDenominador + 1 ) ))\n",
    "    \n",
    "    # calcular os coeficientes\n",
    "    \n",
    "    for i in range( 0, grauDoDenominador + 1 ):\n",
    "        numerador = sp.factorial( grauDoNumerador + grauDoDenominador - i ) * sp.factorial( grauDoDenominador )\n",
    "        denominador = sp.factorial( grauDoNumerador + grauDoDenominador ) * sp.factorial(i) *\\\n",
    "        sp.factorial( grauDoDenominador - i )\n",
    "        \n",
    "        D[i] = (numerador / denominador ) *  ( (-1)**(i) ) * x**i\n",
    "    \n",
    "    # somar os monómios -> polinómio  \n",
    "    \n",
    "    Denominador = sum(D)\n",
    "    \n",
    "    return ( Denominador )"
   ]
  },
  {
   "cell_type": "markdown",
   "metadata": {},
   "source": [
    "### Cálculo do Padé  \\[ p / q \\]"
   ]
  },
  {
   "cell_type": "code",
   "execution_count": 3,
   "metadata": {},
   "outputs": [],
   "source": [
    "def padeExponencial( grauDoNumerador, grauDoDenominador):\n",
    "    pade = padeExponencialNumerador( grauDoNumerador, grauDoDenominador) / padeExponencialDenominador( grauDoNumerador, grauDoDenominador)\n",
    "    return( pade )"
   ]
  },
  {
   "cell_type": "code",
   "execution_count": 4,
   "metadata": {},
   "outputs": [
    {
     "data": {
      "text/latex": [
       "$\\displaystyle \\frac{\\frac{x^{4}}{1680} + \\frac{x^{3}}{84} + \\frac{3 x^{2}}{28} + \\frac{x}{2} + 1}{\\frac{x^{4}}{1680} - \\frac{x^{3}}{84} + \\frac{3 x^{2}}{28} - \\frac{x}{2} + 1}$"
      ],
      "text/plain": [
       "(x**4/1680 + x**3/84 + 3*x**2/28 + x/2 + 1)/(x**4/1680 - x**3/84 + 3*x**2/28 - x/2 + 1)"
      ]
     },
     "execution_count": 4,
     "metadata": {},
     "output_type": "execute_result"
    }
   ],
   "source": [
    "padeExponencial(4,4)"
   ]
  },
  {
   "cell_type": "code",
   "execution_count": null,
   "metadata": {},
   "outputs": [],
   "source": []
  }
 ],
 "metadata": {
  "kernelspec": {
   "display_name": "Python 3",
   "language": "python",
   "name": "python3"
  },
  "language_info": {
   "codemirror_mode": {
    "name": "ipython",
    "version": 3
   },
   "file_extension": ".py",
   "mimetype": "text/x-python",
   "name": "python",
   "nbconvert_exporter": "python",
   "pygments_lexer": "ipython3",
   "version": "3.7.4"
  }
 },
 "nbformat": 4,
 "nbformat_minor": 2
}
